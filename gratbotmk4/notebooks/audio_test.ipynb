{
 "cells": [
  {
   "cell_type": "code",
   "execution_count": 2,
   "metadata": {},
   "outputs": [],
   "source": [
    "#track test\n",
    "import sys, os\n",
    "parent_path = os.path.normpath(os.path.abspath(os.path.join(os.getcwd(), os.path.pardir)))\n",
    "#print(path2add)\n",
    "sys.path.append(parent_path)\n",
    "sys.path.append(os.path.normpath(os.path.join(parent_path,\"gyrii\")))\n",
    "sys.path.append(os.path.normpath(os.path.join(parent_path,\"gyrii\",\"underpinnings\")))\n",
    "from notebook_log_loading import load_sensor_log_file\n",
    "from MessageToJSON import json_to_message\n",
    "from id_to_name import id_to_name\n",
    "\n",
    "#sensor_log,first_timestamp=load_sensor_log_file(\"../to_study/sound_study.txt\")"
   ]
  },
  {
   "cell_type": "code",
   "execution_count": null,
   "metadata": {},
   "outputs": [],
   "source": [
    "import numpy as np\n",
    "import torch\n",
    "import torchaudio\n",
    "\n",
    "\n",
    "\n",
    "melspectogram_transform = torchaudio.transforms.MelSpectrogram(\n",
    "  sample_rate=16000, n_mels=128)\n",
    "melspectogram_db_transform = torchaudio.transforms.AmplitudeToDB()"
   ]
  },
  {
   "cell_type": "code",
   "execution_count": 3,
   "metadata": {},
   "outputs": [
    {
     "name": "stdout",
     "output_type": "stream",
     "text": [
      "files are: []\n"
     ]
    }
   ],
   "source": [
    "import matplotlib.pyplot as plt\n",
    "\n",
    "from os import walk\n",
    "import wave\n",
    "p = pyaudio.PyAudio()\n",
    "\n",
    "\n",
    "mypath=\"sounds/\"\n",
    "filenames = next(walk(mypath), (None, None, []))[2]\n",
    "print(\"files are: {}\".format(filenames))\n",
    "max_chunk_size=16000*5 # 5 seconds\n",
    "\n",
    "for f in filenames:\n",
    "    wf = wave.open(f, 'rb')\n",
    "    data = wf.readframes(max_chunk_size)\n",
    "    wf.close()\n",
    "    data = array.array('h', data)\n",
    "    #turn into pytorch array\n",
    "    data=torch.array(data)\n",
    "    plt.figure()\n",
    "    plt.plot(data[:])\n",
    "    #turn into mel spectrograms\n",
    "    melspectrogram=melspectogram_transform(data)\n",
    "    plt.figure()\n",
    "    plt.imshow(melspectogram.squeeze().numpy(), cmap='hot')\n",
    " \n",
    "    melspectogram_db=melspectogram_db_transform(melspectogram)\n",
    "    plt.figure()\n",
    "    plt.imshow(melspectogram_db.squeeze().numpy(), cmap='hot')\n",
    "\n",
    "\n"
   ]
  },
  {
   "cell_type": "code",
   "execution_count": null,
   "metadata": {},
   "outputs": [],
   "source": []
  },
  {
   "cell_type": "code",
   "execution_count": null,
   "metadata": {},
   "outputs": [],
   "source": []
  }
 ],
 "metadata": {
  "kernelspec": {
   "display_name": "Python 3",
   "language": "python",
   "name": "python3"
  },
  "language_info": {
   "codemirror_mode": {
    "name": "ipython",
    "version": 3
   },
   "file_extension": ".py",
   "mimetype": "text/x-python",
   "name": "python",
   "nbconvert_exporter": "python",
   "pygments_lexer": "ipython3",
   "version": "3.8.3"
  }
 },
 "nbformat": 4,
 "nbformat_minor": 4
}
