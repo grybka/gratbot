{
 "cells": [
  {
   "cell_type": "code",
   "execution_count": 1,
   "metadata": {},
   "outputs": [],
   "source": [
    "#head following, all neural network\n",
    "\n",
    "#each step (0.1 seconds) input\n",
    "# n y position neurons  (n)\n",
    "\n",
    "# last step's servo requests (1)\n",
    "# servo response (1)\n",
    "# angle from horizon (1)\n",
    "# --not yet-- n x position neurons\n",
    "# --not yet-- delta theta\n",
    "\n",
    "\n",
    "#each step output\n",
    "# n y position neurons (n)\n",
    "# servo response (1)\n",
    "\n"
   ]
  },
  {
   "cell_type": "code",
   "execution_count": 2,
   "metadata": {},
   "outputs": [],
   "source": [
    "#take messages as input, store neuron info, report an reset as needed\n",
    "\n",
    "class MessagesToNN:\n",
    "    def __init__(self):\n",
    "        ...\n",
    "        \n",
    "    def detections_to_nn(self,m):\n",
    "        ...\n",
    "        \n",
    "    def read_message(self,m):\n",
    "        if \"detections\" in m:\n",
    "            ...\n",
    "        if \"rotation_vector\" in m:\n",
    "            ...\n",
    "        if \"servo_response\" in m:\n",
    "            ...\n",
    "        \n",
    "    def get_neurons_and_reset(self):\n",
    "        #returns (n+x) neurons as numpy array\n",
    "        ...\n",
    "    \n",
    "    def reset(self):\n",
    "        ..."
   ]
  },
  {
   "cell_type": "code",
   "execution_count": 3,
   "metadata": {},
   "outputs": [],
   "source": [
    "#turn message log into training set\n",
    "\n",
    "class MessagesToTrainingSet:\n",
    "    def __init__(self):\n",
    "        ...\n",
    "        \n",
    "    def read_message(self,m):\n",
    "        ..."
   ]
  },
  {
   "cell_type": "code",
   "execution_count": null,
   "metadata": {},
   "outputs": [],
   "source": [
    "import torch\n",
    "import torch.nn as nn\n",
    "import torch.nn.functional as F\n",
    "import torch.optim as optim\n",
    "\n",
    "class EncoderDecoderDetectionPredictor(nn.Module):\n",
    "    def __init__(self):\n",
    "        super(EncoderDecoderDetectionPredictor, self).__init__()        \n",
    "\n",
    "    "
   ]
  }
 ],
 "metadata": {
  "kernelspec": {
   "display_name": "Python 3",
   "language": "python",
   "name": "python3"
  },
  "language_info": {
   "codemirror_mode": {
    "name": "ipython",
    "version": 3
   },
   "file_extension": ".py",
   "mimetype": "text/x-python",
   "name": "python",
   "nbconvert_exporter": "python",
   "pygments_lexer": "ipython3",
   "version": "3.8.3"
  }
 },
 "nbformat": 4,
 "nbformat_minor": 4
}
