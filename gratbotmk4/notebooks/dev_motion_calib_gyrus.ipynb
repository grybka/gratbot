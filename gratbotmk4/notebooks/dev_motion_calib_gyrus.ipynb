{
 "cells": [
  {
   "cell_type": "code",
   "execution_count": 1,
   "metadata": {},
   "outputs": [],
   "source": [
    "from notebook_log_loading import load_sensor_log_file\n",
    "\n",
    "sensor_log,first_timestamp=load_sensor_log_file(\"../to_study/senw_imu.txt\")"
   ]
  },
  {
   "cell_type": "code",
   "execution_count": 5,
   "metadata": {},
   "outputs": [],
   "source": [
    "import sys, os\n",
    "parent_path = os.path.normpath(os.path.abspath(os.path.join(os.getcwd(), os.path.pardir)))\n",
    "#print(path2add)\n",
    "sys.path.append(parent_path)\n",
    "sys.path.append(os.path.normpath(os.path.join(parent_path,\"gyrii\")))\n",
    "sys.path.append(os.path.normpath(os.path.join(parent_path,\"gyrii\",\"underpinnings\")))\n",
    "\n",
    "from gyrii.Gyrus import ThreadedGyrus\n",
    "from gyrii.underpinnings.NNCalibration2 import StatePredictorWithPolicy\n",
    "\n",
    "\n",
    "class VisualMotionCalibGyrus(ThreadedGyrus):\n",
    "    def __init__(self,broker,load_file=None):\n",
    "\n",
    "        self.motionpredictor=nn.Sequential(nn.Linear(4,4),\n",
    "                              nn.Tanh(),\n",
    "                              nn.Linear(4,2))\n",
    "\n",
    "        self.policy=nn.Sequential(nn.Linear(4,4),\n",
    "                                  nn.Tanh(),\n",
    "                                  nn.Linear(4,2),\n",
    "                                  nn.Tanh())\n",
    "        \n",
    "        self.last_gyro=np.zeros(3) #last gyroscope reading\n",
    "        self.last_accel=np.zeros(3) #last accelerometer reading\n",
    "        \n",
    "        \n",
    "    def get_keys(self):\n",
    "        return []\n",
    "    \n",
    "    def get_name(self):\n",
    "        return \"VisualMotionCalibGyrus\"\n",
    "    \n",
    "    def holding_still(self,timestamp): #return true if I think I'm holding still\n",
    "        if np.linalg.norm(self.last_gyro)>0.03:\n",
    "            return False\n",
    "        if np.linalg.norm(self.last_accel)>0.15:\n",
    "            return False\n",
    "        \n"
   ]
  },
  {
   "cell_type": "code",
   "execution_count": null,
   "metadata": {},
   "outputs": [],
   "source": []
  }
 ],
 "metadata": {
  "kernelspec": {
   "display_name": "Python 3",
   "language": "python",
   "name": "python3"
  },
  "language_info": {
   "codemirror_mode": {
    "name": "ipython",
    "version": 3
   },
   "file_extension": ".py",
   "mimetype": "text/x-python",
   "name": "python",
   "nbconvert_exporter": "python",
   "pygments_lexer": "ipython3",
   "version": "3.8.3"
  }
 },
 "nbformat": 4,
 "nbformat_minor": 4
}
