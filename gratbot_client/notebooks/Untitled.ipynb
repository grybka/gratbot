{
 "cells": [
  {
   "cell_type": "code",
   "execution_count": 23,
   "metadata": {},
   "outputs": [
    {
     "name": "stdout",
     "output_type": "stream",
     "text": [
      "s_theta is 0.17453292519943295\n",
      "cortern 752.206032703839 \n",
      "[[-0.00522939]\n",
      " [-0.01072943]]\n",
      "that's -0.6147507920983997 degrees\n",
      "in one second -18.442523762951993 degrees\n"
     ]
    }
   ],
   "source": [
    "import numpy as np\n",
    "from scipy.linalg import pinvh\n",
    "\n",
    "xoffset=-12\n",
    "\n",
    "\n",
    "hfov=48.8*(2*np.pi)/360 \n",
    "f_theta=640/hfov\n",
    "L=1.0\n",
    "f_x=f_theta/L\n",
    "\n",
    "s_o=6 #pixel uncertainty\n",
    "s_x= 0.25 #likely position change, in meters\n",
    "s_theta=np.radians(10) #likely angle change, in radians\n",
    "print(\"s_theta is {}\".format(s_theta))\n",
    "A= [ [ f_theta**2+(s_o/s_theta)**2     ,   + f_theta*f_x             ],\n",
    "      [ +f_theta*f_x                        ,  f_x**2+(s_o/s_x)**2] ]\n",
    "B= [ [ xoffset*f_theta],\n",
    "    [ xoffset*f_x]]\n",
    "print(\"cortern {} \".format(np.sqrt(f_theta**2+(s_o/s_theta)**2 ) ))\n",
    "x_center=np.dot(pinvh(A),B) #column vector\n",
    "print(x_center)\n",
    "print(\"that's {} degrees\".format(np.degrees(x_center[1][0])))\n",
    "print(\"in one second {} degrees\".format(np.degrees(x_center[1][0]*30)))"
   ]
  },
  {
   "cell_type": "code",
   "execution_count": null,
   "metadata": {},
   "outputs": [],
   "source": []
  }
 ],
 "metadata": {
  "kernelspec": {
   "display_name": "Python 3",
   "language": "python",
   "name": "python3"
  },
  "language_info": {
   "codemirror_mode": {
    "name": "ipython",
    "version": 3
   },
   "file_extension": ".py",
   "mimetype": "text/x-python",
   "name": "python",
   "nbconvert_exporter": "python",
   "pygments_lexer": "ipython3",
   "version": "3.8.3"
  }
 },
 "nbformat": 4,
 "nbformat_minor": 4
}
