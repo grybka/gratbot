{
 "cells": [
  {
   "cell_type": "code",
   "execution_count": null,
   "metadata": {},
   "outputs": [],
   "source": []
  },
  {
   "cell_type": "code",
   "execution_count": 1,
   "metadata": {},
   "outputs": [],
   "source": [
    "#for development of the gridmap\n",
    "import sys, os\n",
    "#path2add = os.path.normpath(os.path.abspath(os.path.join(os.path.dirname(__file__), os.path.pardir, 'dir1')))\n",
    "#print(os.getcwd())\n",
    "parent_path = os.path.normpath(os.path.abspath(os.path.join(os.getcwd(), os.path.pardir)))\n",
    "#print(path2add)\n",
    "sys.path.append(parent_path)\n",
    "sys.path.append(os.path.normpath(os.path.join(parent_path,\"gyrii\")))\n",
    "\n",
    "import json\n",
    "import yaml\n",
    "\n",
    "    \n",
    "def dict_array_upend(mydict,key,elem):\n",
    "    if key not in mydict:\n",
    "        mydict[key]=[]\n",
    "    mydict[key.append(elem)]\n",
    "\n",
    "def load_sensor_log_file(fname):\n",
    "    response=[]\n",
    "    first_timestamp=0\n",
    "    f=open(fname,'r')\n",
    "    for line in f.readlines():        \n",
    "        dat=json.loads(line)\n",
    "        timestamp=dat[\"timestamp\"]-first_timestamp\n",
    "        response.append(dat)\n",
    "        if first_timestamp==0:                        \n",
    "            first_timestamp=timestamp\n",
    "    return response,first_timestamp\n",
    "        \n",
    "#sensor_log,first_timestamp=load_sensor_log_file(\"../logs/sensor_log_20210326-143448.txt\")\n",
    "sensor_log,first_timestamp=load_sensor_log_file(\"../logs/sensor_log_20210410-175823.txt\")"
   ]
  },
  {
   "cell_type": "code",
   "execution_count": 2,
   "metadata": {},
   "outputs": [],
   "source": [
    "from Gyrus import Gyrus\n",
    "from TimeSeries import TimeSeries\n",
    "import numpy as np\n",
    "from gyrii.underpinnings.BayesianArray import BayesianArray\n",
    "\n",
    "class MotionCalibGyrus(Gyrus):\n",
    "    def __init__(self):\n",
    "        self.last_pose=None\n",
    "        self.last_pose_covariance=None        \n",
    "        self.pose_history=[] #time, pose\n",
    "        self.motor_history=[] # starttime, endtime, activity\n",
    "        self.last_motor_activity=[]\n",
    "        self.last_motor_activity_timestamp=[]\n",
    "        \n",
    "    def same_pose(self,a,b,x_thresh,t_thresh):\n",
    "        delta=np.array(a)-np.array(b)\n",
    "        if abs(delta[2])>t_thresh:\n",
    "            return False\n",
    "        dx=np.sqrt(delta[0]**2+delta[1]**2)\n",
    "        if dx>x_thresh:\n",
    "            return False\n",
    "        return True\n",
    "    \n",
    "    def bracket_history(self):\n",
    "        ret=[]\n",
    "        pose_h=np.array(self.pose_history)\n",
    "        motor_h=np.array(self.motor_history)\n",
    "        indices_before=np.searchsorted(pose_h[:,0],motor_h[:,0])-1\n",
    "        indices_after=np.searchsorted(pose_h[:,0],motor_h[:,0]+motor_h[:,2])\n",
    "        #print(indices_before)\n",
    "        valid1= indices_before>=0 \n",
    "        valid2= indices_after<len(pose_h)\n",
    "        #print(valid)\n",
    "        indices_before=indices_before[valid1 & valid2]\n",
    "        indices_after=indices_after[valid1 & valid2]\n",
    "        motor_h=motor_h[valid1 & valid2]\n",
    "        ret=[ [pose_h[indices_before[i]],pose_h[indices_after[i]],motor_h[i]] for i in range(len(motor_h))]\n",
    "        \n",
    "        turns=[]\n",
    "        fbs=[]\n",
    "        for r in ret:\n",
    "            if r[2][0]!=0: #back forward\n",
    "                turns.append(r)\n",
    "            if r[2][2]!=0: #turn\n",
    "                fbs.append(r)\n",
    "        return {\"turns\":turns,\"fb\":fbs,\"all\":ret}\n",
    "    \n",
    "    def calibrate_fbs(self,fbs):\n",
    "        x=[ fb[2][2] for fb in fbs ]\n",
    "\n",
    "    def read_message(self,message):\n",
    "        if \"latest_pose\" in message:\n",
    "            the_pose=BayesianArray.from_object(message[\"latest_pose\"])\n",
    "            if message[\"pose_notes\"]==\"pose_is_stable\":\n",
    "                if len(self.pose_history)==0 or not self.same_pose(self.pose_history[-1][1].vals,the_pose.vals,0.02,0.02):\n",
    "                    self.pose_history.append([message[\"timestamp\"],the_pose]) #save to recent history for fitting\n",
    "            self.last_pose=np.array(message[\"latest_pose\"][\"vals\"])\n",
    "            self.last_pose_covariance=np.array(message[\"latest_pose\"][\"covariance\"])\n",
    "        if \"drive/motors_active\" in message:\n",
    "            motors_active=message[\"drive/motors_active\"][0:3]\n",
    "            duration=message[\"drive/motors_active\"][3]\n",
    "            if motors_active!=[0,0,0]:\n",
    "                if motors_active==self.last_motor_activity:\n",
    "                    self.motor_history[-1][2]+=duration                    \n",
    "                else:\n",
    "                    self.motor_history.append( [ message[\"timestamp\"],message[\"drive/motors_active\"][0:3],duration])            \n",
    "            self.last_motor_activity=motors_active            \n",
    "            self.last_motor_activity_timestamp=message[\"timestamp\"]\n",
    "        return []\n",
    "\n",
    "\n",
    "class PosePlotter(Gyrus):\n",
    "    def __init__(self):\n",
    "        self.x_dataseries=TimeSeries(title=\"Pose X\",ylabel=\"X Position (m)\")\n",
    "        self.x_unc_dataseries=TimeSeries(title=\"Pose X Unc\",ylabel=\"X Position Uncertainty (m)\")\n",
    "        self.y_dataseries=TimeSeries(title=\"Pose Y\",ylabel=\"X Position (m)\")\n",
    "        self.y_unc_dataseries=TimeSeries(title=\"Pose Y Unc\",ylabel=\"X Position Uncertainty (m)\")\n",
    "        self.theta_dataseries=TimeSeries(title=\"Pose Theta\",ylabel=\"Angle (radians)\")\n",
    "        self.theta_unc_dataseries=TimeSeries(title=\"Pose Theta\",ylabel=\"Angle Uncertainty (radians)\")\n",
    "        self.lx_dataseries=TimeSeries(title=\"Pose X\",ylabel=\"X Position Lidar (m)\")\n",
    "        self.lx_unc_dataseries=TimeSeries(title=\"Pose X Unc\",ylabel=\"X Lidar Position Uncertainty (m)\")\n",
    "        self.ly_dataseries=TimeSeries(title=\"Pose Y\",ylabel=\"X Position Lidar (m)\")\n",
    "        self.ly_unc_dataseries=TimeSeries(title=\"Pose Y Unc\",ylabel=\"X Lidar Position Uncertainty (m)\")\n",
    "        self.ltheta_dataseries=TimeSeries(title=\"Pose Theta\",ylabel=\"Angle (radians)\")\n",
    "        self.ltheta_unc_dataseries=TimeSeries(title=\"Pose Theta\",ylabel=\"Angle Uncertainty (radians)\")\n",
    "        self.ctheta_dataseries=TimeSeries(title=\"Pose Theta\",ylabel=\"Angle (radians)\")\n",
    "        self.ctheta_unc_dataseries=TimeSeries(title=\"Pose Theta\",ylabel=\"Angle Uncertainty (radians)\")   \n",
    "        self.motor_durations=TimeSeries(title=\"Motor Duration\")\n",
    "        self.bfield_times=[]\n",
    "        self.bfields=[]\n",
    "        \n",
    "        \n",
    "        \n",
    "    def read_message(self,message):\n",
    "        if \"latest_pose\" in message and \"timestamp\" in message:\n",
    "            self.x_dataseries.append(message[\"timestamp\"],message[\"latest_pose\"][\"vals\"][0])\n",
    "            self.x_unc_dataseries.append(message[\"timestamp\"],np.sqrt(message[\"latest_pose\"][\"covariance\"][0][0]))\n",
    "            self.y_dataseries.append(message[\"timestamp\"],message[\"latest_pose\"][\"vals\"][1])\n",
    "            self.y_unc_dataseries.append(message[\"timestamp\"],np.sqrt(message[\"latest_pose\"][\"covariance\"][1][1]))\n",
    "            self.theta_dataseries.append(message[\"timestamp\"],message[\"latest_pose\"][\"vals\"][2])\n",
    "            self.theta_unc_dataseries.append(message[\"timestamp\"],np.sqrt(message[\"latest_pose\"][\"covariance\"][2][2]))\n",
    "        if \"notes\" in message and message[\"notes\"]==\"lidar\":\n",
    "            self.lx_dataseries.append(message[\"timestamp\"],message[\"pose_measurement\"][\"vals\"][0])\n",
    "            self.lx_unc_dataseries.append(message[\"timestamp\"],np.sqrt(message[\"pose_measurement\"][\"covariance\"][0][0]))\n",
    "            self.ly_dataseries.append(message[\"timestamp\"],message[\"pose_measurement\"][\"vals\"][1])\n",
    "            self.ly_unc_dataseries.append(message[\"timestamp\"],np.sqrt(message[\"pose_measurement\"][\"covariance\"][1][1]))\n",
    "            self.ltheta_dataseries.append(message[\"timestamp\"],message[\"pose_measurement\"][\"vals\"][2])\n",
    "            self.ltheta_unc_dataseries.append(message[\"timestamp\"],np.sqrt(message[\"pose_measurement\"][\"covariance\"][2][2]))\n",
    "        if \"notes\" in message and message[\"notes\"]==\"compass\":\n",
    "            self.ctheta_dataseries.append(message[\"timestamp\"],message[\"pose_measurement\"][\"vals\"][2])\n",
    "            self.ctheta_unc_dataseries.append(message[\"timestamp\"],np.sqrt(message[\"pose_measurement\"][\"covariance\"][2][2]))\n",
    "        if \"magnetometer/b_field\" in message:\n",
    "            self.bfield_times.append(message[\"timestamp\"])\n",
    "            self.bfields.append(np.array(message[\"magnetometer/b_field\"])    )  \n",
    "        if \"drive/motors_active\" in message:\n",
    "            if message[\"drive/motors_active\"][3]< 100:\n",
    "                self.motor_durations.append(message[\"timestamp\"],message[\"drive/motors_active\"][3])\n",
    "\n",
    "        return []\n"
   ]
  },
  {
   "cell_type": "code",
   "execution_count": 3,
   "metadata": {},
   "outputs": [],
   "source": [
    "from MotionGyrus import MotionEstimationGyrus\n",
    "\n",
    "plotters={}\n",
    "plotters[\"pose\"]=PosePlotter()\n",
    "\n",
    "gyrii=[]\n",
    "#gyrii.append(MotionEstimationGyrus(None))\n",
    "mcgyrus=MotionCalibGyrus()\n",
    "gyrii.append(mcgyrus)\n",
    "\n",
    "for key in plotters:\n",
    "    gyrii.append(plotters[key])\n",
    "\n",
    "start_timestamp=sensor_log[0][\"timestamp\"]\n",
    "inspect_messagename=\"none\"\n",
    "\n",
    "remove_messages=[\"po\"]\n",
    "\n",
    "for i in range(len(sensor_log)):    \n",
    "    for m in remove_messages:\n",
    "        if m in sensor_log[i]:            \n",
    "            #print(\"removing {}\".format(sensor_log[i]))            \n",
    "            sensor_log[i].pop(m,None)\n",
    "            #print(\"removing {}\".format(sensor_log[i]))                      \n",
    "    start_message=sensor_log[i]\n",
    "    start_message[\"timestamp\"]-=start_timestamp #rescale time to zero at start\n",
    "    waiting_messages=[ start_message ]    \n",
    "    while len(waiting_messages)!=0:\n",
    "        on_message=waiting_messages.pop()\n",
    "        if inspect_messagename in on_message:\n",
    "            print(on_message)\n",
    "        for g in gyrii:\n",
    "            resp=g.read_message(on_message)\n",
    "            if resp is not None:\n",
    "                waiting_messages.extend(resp)"
   ]
  },
  {
   "cell_type": "code",
   "execution_count": 4,
   "metadata": {},
   "outputs": [
    {
     "name": "stderr",
     "output_type": "stream",
     "text": [
      "C:\\Users\\grybk\\projects\\gratbot\\gratbot_client\\TimeSeries.py:60: UserWarning: Matplotlib is currently using module://ipykernel.pylab.backend_inline, which is a non-GUI backend, so cannot show the figure.\n",
      "  fig.show()\n",
      "C:\\Users\\grybk\\projects\\gratbot\\gratbot_client\\TimeSeries.py:60: UserWarning: Matplotlib is currently using module://ipykernel.pylab.backend_inline, which is a non-GUI backend, so cannot show the figure.\n",
      "  fig.show()\n"
     ]
    },
    {
     "data": {
      "image/png": "[encoded data removed]",
      "text/plain": [
       "<Figure size 432x288 with 1 Axes>"
      ]
     },
     "metadata": {
      "needs_background": "light"
     },
     "output_type": "display_data"
    },
    {
     "data": {
      "image/png": "[encoded data removed]",
      "text/plain": [
       "<Figure size 432x288 with 1 Axes>"
      ]
     },
     "metadata": {
      "needs_background": "light"
     },
     "output_type": "display_data"
    }
   ],
   "source": [
    "import matplotlib.pyplot as plt\n",
    "plotters[\"pose\"].x_dataseries.plot()\n",
    "plotters[\"pose\"].y_dataseries.plot()\n",
    "#plotters[\"pose\"].theta_dataseries.plot()\n",
    "#plt.figure()\n",
    "#plt.xlim(10,14)\n",
    "#plt.plot(plotters[\"pose\"].theta_dataseries.times,plotters[\"pose\"].theta_dataseries.data)\n",
    "#plt.plot(plotters[\"pose\"].theta_dataseries.times,plotters[\"pose\"].theta_dataseries.data,'*')\n",
    "#plt.show()\n",
    "#plotters[\"pose\"].x_unc_dataseries.plot()\n",
    "#plotters[\"pose\"].y_unc_dataseries.plot()\n",
    "#plotters[\"pose\"].motor_durations.plot()"
   ]
  },
  {
   "cell_type": "code",
   "execution_count": 46,
   "metadata": {},
   "outputs": [
    {
     "name": "stdout",
     "output_type": "stream",
     "text": [
      "11\n",
      "8\n",
      "8\n",
      "1.3606743812561035 15.462072372436523-[0.6, 0, 0] 18.479454278945923\n",
      "18.479454278945923 21.93166160583496-[0.6, 0, 0] 25.331990957260132\n",
      "25.331990957260132 30.265248775482178-[0.6, 0, 0] 34.06686329841614\n",
      "34.06686329841614 40.540449380874634-[0.6, 0, 0] 44.47325253486633\n",
      "44.47325253486633 48.972843170166016-[-0.6, 0, 0] 52.21367073059082\n",
      "52.21367073059082 52.4003210067749-[-0.6, 0, 0] 55.55427145957947\n",
      "55.55427145957947 58.37018823623657-[-0.6, 0, 0] 62.06439924240112\n",
      "62.06439924240112 63.45307183265686-[-0.6, 0, 0] 67.54321265220642\n",
      "0.6\n",
      "0.6\n",
      "0.6\n",
      "0.6\n",
      "-0.6\n",
      "-0.6\n",
      "-0.6\n",
      "-0.6\n"
     ]
    },
    {
     "name": "stderr",
     "output_type": "stream",
     "text": [
      "<ipython-input-2-d018b213190e>:27: VisibleDeprecationWarning: Creating an ndarray from ragged nested sequences (which is a list-or-tuple of lists-or-tuples-or ndarrays with different lengths or shapes) is deprecated. If you meant to do this, you must specify 'dtype=object' when creating the ndarray\n",
      "  motor_h=np.array(self.motor_history)\n"
     ]
    },
    {
     "data": {
      "image/png": "[encoded data removed]",
      "text/plain": [
       "<Figure size 432x288 with 1 Axes>"
      ]
     },
     "metadata": {
      "needs_background": "light"
     },
     "output_type": "display_data"
    },
    {
     "data": {
      "image/png": "[encoded data removed]",
      "text/plain": [
       "<Figure size 432x288 with 1 Axes>"
      ]
     },
     "metadata": {
      "needs_background": "light"
     },
     "output_type": "display_data"
    },
    {
     "data": {
      "image/png": "[encoded data removed]",
      "text/plain": [
       "<Figure size 432x288 with 1 Axes>"
      ]
     },
     "metadata": {
      "needs_background": "light"
     },
     "output_type": "display_data"
    },
    {
     "name": "stdout",
     "output_type": "stream",
     "text": [
      "chisq is 0.07516743302778828\n",
      "fit value is 0.1325+/-0.0005\n"
     ]
    },
    {
     "data": {
      "image/png": "[encoded data removed]",
      "text/plain": [
       "<Figure size 432x288 with 1 Axes>"
      ]
     },
     "metadata": {
      "needs_background": "light"
     },
     "output_type": "display_data"
    },
    {
     "name": "stdout",
     "output_type": "stream",
     "text": [
      "chisq is 0.07210132538273228\n",
      "fit value is 0.4526+/-0.0011\n"
     ]
    },
    {
     "data": {
      "image/png": "[encoded data removed]",
      "text/plain": [
       "<Figure size 432x288 with 1 Axes>"
      ]
     },
     "metadata": {
      "needs_background": "light"
     },
     "output_type": "display_data"
    },
    {
     "name": "stdout",
     "output_type": "stream",
     "text": [
      "chisq is 0.8124294314920631\n",
      "fit value is -0.01734+/-0.00011\n"
     ]
    },
    {
     "data": {
      "image/png": "[encoded data removed]",
      "text/plain": [
       "<Figure size 432x288 with 1 Axes>"
      ]
     },
     "metadata": {
      "needs_background": "light"
     },
     "output_type": "display_data"
    }
   ],
   "source": [
    "from uncertainties import unumpy\n",
    "from uncertainties import ufloat\n",
    "\n",
    "print(len(mcgyrus.pose_history))\n",
    "print(len(mcgyrus.motor_history))\n",
    "#print(mcgyrus.pose_history)\n",
    "ret=mcgyrus.bracket_history()\n",
    "bh=ret[\"all\"]\n",
    "fbs=ret[\"fb\"]\n",
    "print(len(bh))\n",
    "for i in range(len(bh)):\n",
    "    print(\"{} {}-{} {}\".format(bh[i][0][0],bh[i][2][0],bh[i][2][1],bh[i][1][0]))\n",
    "    \n",
    "def to_facing_matrix(angle):\n",
    "    return np.array([[np.cos(angle),np.sin(angle),0],\n",
    "                     [-np.sin(angle),np.cos(angle),0],\n",
    "                     [0,0,1]]) #did I get the sign right?\n",
    "\n",
    "def process_fb(fbs):\n",
    "    ret=[]\n",
    "    retuncs=[]\n",
    "    for fb in fbs:\n",
    "        facing=to_facing_matrix(fb[0][1].vals[2])\n",
    "        #delta=fb[1][1].vals-fb[0][1].vals\n",
    "        delta=fb[1][1]-fb[0][1]\n",
    "        delta=delta.applymatrix(facing)\n",
    "        deltau=delta.get_as_ufloat()\n",
    "        ret.append(unumpy.nominal_values(deltau))\n",
    "        retuncs.append(unumpy.std_devs(deltau))\n",
    "        #ret.append(delta)\n",
    "    return np.array(ret),np.array(retuncs)\n",
    "        \n",
    "    \n",
    "    \n",
    "#dur=[ fb[2][2] if fb[2][1][0]>0 else -fb[2][2] for fb in fbs ]\n",
    "dur=[ fb[2][2]*fb[2][1][0] for fb in fbs ]\n",
    "for fb in fbs:\n",
    "    print(fb[2][1][0])\n",
    "\n",
    "\n",
    "deltafs,deltafs_unc=process_fb(fbs)\n",
    "\n",
    "\n",
    "plt.figure()\n",
    "plt.plot( dur,deltafs[:,0],'*')\n",
    "plt.show()\n",
    "plt.figure()\n",
    "plt.plot( dur,deltafs[:,1],'*')\n",
    "plt.show()\n",
    "plt.figure()\n",
    "plt.plot( dur,deltafs[:,2],'*')\n",
    "plt.show()\n",
    "\n",
    "def fit_slope(xs,ys,sigmasquares,m_prior,m_prior_unc):\n",
    "    #TODO it is trivial to include a prior on the slope here\n",
    "    #given motion records and a single dimension, fit to y=m*x\n",
    "    #returns best fit m, m_unc, chi-square/n\n",
    "    xxsum=0\n",
    "    xysum=0\n",
    "    yysum=0\n",
    "    prior_uncsquare=m_prior_unc**2\n",
    "    #print(\"prior is {}\".format(ufloat(m_prior,m_prior_unc)))\n",
    "\n",
    "    for i in range(len(xs)):\n",
    "        x=xs[i]\n",
    "        y=ys[i]\n",
    "        sigmasquare=sigmasquares[i]\n",
    "        xxsum+=x*x/sigmasquare\n",
    "        xysum+=x*y/sigmasquare\n",
    "        yysum+=y*y/sigmasquare\n",
    "    myslope=(xysum+m_prior/prior_uncsquare)/(xxsum+1/prior_uncsquare)\n",
    "    #print(\"myslope is {}\".format(myslope))\n",
    "    myslope_unc=np.sqrt(1/(xxsum/sigmasquare+1/prior_uncsquare))\n",
    "    #print(\"myslope  unc is {}\".format(myslope_unc))\n",
    "    chisq=myslope*myslope*xxsum-2*myslope*xysum+yysum\n",
    "    chisq=chisq/len(xs)\n",
    "    if chisq>1: #inflate uncertainties if I'm underestimating error bars on data\n",
    "        myslope_unc*=np.sqrt(chisq)\n",
    "    return myslope,myslope_unc,chisq\n",
    "\n",
    "for i in range(3):\n",
    "    m,dm,chisq=fit_slope(dur,deltafs[:,i],deltafs_unc[:,i]**2,0,1e9)\n",
    "    print(\"chisq is {}\".format(chisq))\n",
    "    print(\"fit value is {}\".format(ufloat(m,dm)))\n",
    "    plt.figure()\n",
    "    plt.plot( dur,deltafs[:,i],'*')\n",
    "    plt.plot( dur, np.array(dur)*m)\n",
    "    plt.show()\n",
    "\n",
    "#print(deltafs)"
   ]
  },
  {
   "cell_type": "code",
   "execution_count": null,
   "metadata": {},
   "outputs": [],
   "source": []
  },
  {
   "cell_type": "code",
   "execution_count": 55,
   "metadata": {},
   "outputs": [
    {
     "name": "stdout",
     "output_type": "stream",
     "text": [
      "faceing up 0 : [0. 1. 0.] \n",
      "faceing right  : [9.99999683e-01 7.96326711e-04 0.00000000e+00] \n"
     ]
    }
   ],
   "source": [
    "def get_rot_matrix3(theta):\n",
    "    return np.array([[np.cos(theta),np.sin(theta),0],\n",
    "                     [-np.sin(theta),np.cos(theta),0],\n",
    "                     [0,0,1]])\n",
    "\n",
    "forvec=np.array([0,1.0,0])\n",
    "print(\"faceing up 0 : {} \".format(np.dot(get_rot_matrix3(0),forvec)))\n",
    "print(\"faceing right  : {} \".format(np.dot(get_rot_matrix3(90*2*3.14/360),forvec)))"
   ]
  },
  {
   "cell_type": "code",
   "execution_count": null,
   "metadata": {},
   "outputs": [],
   "source": []
  }
 ],
 "metadata": {
  "kernelspec": {
   "display_name": "Python 3",
   "language": "python",
   "name": "python3"
  },
  "language_info": {
   "codemirror_mode": {
    "name": "ipython",
    "version": 3
   },
   "file_extension": ".py",
   "mimetype": "text/x-python",
   "name": "python",
   "nbconvert_exporter": "python",
   "pygments_lexer": "ipython3",
   "version": "3.8.3"
  }
 },
 "nbformat": 4,
 "nbformat_minor": 4
}
