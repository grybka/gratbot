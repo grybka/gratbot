{
 "cells": [
  {
   "cell_type": "code",
   "execution_count": 2,
   "metadata": {},
   "outputs": [],
   "source": [
    "import gym\n",
    "import numpy as np\n",
    "import matplotlib.pyplot as plt\n",
    "%matplotlib inline\n",
    "\n",
    "from matplotlib import animation\n",
    "from IPython.display import display\n",
    "\n"
   ]
  },
  {
   "cell_type": "code",
   "execution_count": 5,
   "metadata": {},
   "outputs": [
    {
     "name": "stdout",
     "output_type": "stream",
     "text": [
      "[ 0.03830346 -0.18610113 -0.04350653  0.30097919]\n",
      "[ 0.03458144 -0.38057685 -0.03748694  0.57962985]\n",
      "[ 0.0269699  -0.18495017 -0.02589434  0.27537741]\n",
      "[ 0.0232709  -0.37969329 -0.0203868   0.55978208]\n",
      "[ 0.01567703 -0.18429122 -0.00919115  0.26074657]\n",
      "[ 0.01199121 -0.37928077 -0.00397622  0.55051638]\n",
      "[ 0.00440559 -0.57434664  0.0070341   0.84194387]\n",
      "[-0.00708134 -0.7695639   0.02387298  1.13683052]\n",
      "[-0.02247262 -0.57476222  0.04660959  0.85172925]\n",
      "[-0.03396786 -0.38030566  0.06364418  0.57405945]\n"
     ]
    }
   ],
   "source": [
    "env = gym.make('CartPole-v0')\n",
    "observation = env.reset()\n",
    "\n",
    "for t in range(10):\n",
    "    action = env.action_space.sample()\n",
    "    observation, reward, done, info = env.step(action)\n",
    "    print(observation)"
   ]
  },
  {
   "cell_type": "code",
   "execution_count": null,
   "metadata": {},
   "outputs": [],
   "source": []
  }
 ],
 "metadata": {
  "kernelspec": {
   "display_name": "Python 3",
   "language": "python",
   "name": "python3"
  },
  "language_info": {
   "codemirror_mode": {
    "name": "ipython",
    "version": 3
   },
   "file_extension": ".py",
   "mimetype": "text/x-python",
   "name": "python",
   "nbconvert_exporter": "python",
   "pygments_lexer": "ipython3",
   "version": "3.8.3"
  }
 },
 "nbformat": 4,
 "nbformat_minor": 4
}
