{
 "cells": [
  {
   "cell_type": "code",
   "execution_count": null,
   "metadata": {},
   "outputs": [],
   "source": [
    "#get the data and turn it into a state vector\n",
    "\n",
    "#State Vector Design\n",
    "#Position:  Value\n",
    "#     0  -  x gyro velocity\n",
    "#     1  -  x gyro velocity\n",
    "#     2  -  x gyro velocity\n",
    "#     3  -  x acceleration\n",
    "#     4  -  y acceleration\n",
    "#     5  -  z acceleration\n",
    "#     6 -   x B field\n",
    "#     7 -   y B field\n",
    "#     8 -   z B field\n",
    "#     9 -  left motor active\n",
    "#    10 -  right motor active\n"
   ]
  }
 ],
 "metadata": {
  "kernelspec": {
   "display_name": "Python 3",
   "language": "python",
   "name": "python3"
  },
  "language_info": {
   "codemirror_mode": {
    "name": "ipython",
    "version": 3
   },
   "file_extension": ".py",
   "mimetype": "text/x-python",
   "name": "python",
   "nbconvert_exporter": "python",
   "pygments_lexer": "ipython3",
   "version": "3.8.3"
  }
 },
 "nbformat": 4,
 "nbformat_minor": 4
}
