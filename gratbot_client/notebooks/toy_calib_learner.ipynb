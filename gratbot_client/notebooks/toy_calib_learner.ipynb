{
 "cells": [
  {
   "cell_type": "code",
   "execution_count": 1,
   "metadata": {},
   "outputs": [],
   "source": [
    "import numpy as np\n",
    "import torch\n",
    "from torch.utils.data import Dataset,DataLoader,TensorDataset,random_split\n",
    "from torch.utils.data.sampler import SubsetRandomSampler\n",
    "from matplotlib import pyplot as plt\n",
    "\n",
    "\n",
    "class Simulation:\n",
    "    def __init__(self):        \n",
    "        self.position=0.3\n",
    "        #self.position_wobble=0.05\n",
    "        #self.position_uncertainty=0.1\n",
    "        self.position_wobble=0.00\n",
    "        self.position_uncertainty=0.0\n",
    "        \n",
    "    def step(self,dec):\n",
    "        mag,dur=dec\n",
    "        #input magnitude,duration\n",
    "        #returns x position output\n",
    "        \n",
    "        self.position=self.position+0.4*np.clip(np.sin(mag*np.pi/2),-1,1)*np.sqrt(dur)+np.random.normal(0,self.position_wobble)\n",
    "        return [ self.position+np.random.normal(0,self.position_uncertainty) ]"
   ]
  },
  {
   "cell_type": "code",
   "execution_count": 2,
   "metadata": {},
   "outputs": [],
   "source": [
    "from torch.utils.data import Dataset,DataLoader,TensorDataset,random_split\n",
    "import random\n",
    "\n",
    "class WeightedLeakyMemory():\n",
    "    def __init__(self,max_len):\n",
    "        self.max_len=max_len\n",
    "        self.experiences=[]\n",
    "        \n",
    "    def get_average_weight(self):\n",
    "        thesum=0\n",
    "        for x in self.experiences:\n",
    "            thesum+=x[1]\n",
    "        return thesum/len(self.experiences)                    \n",
    "    \n",
    "    def get_average_inv_weight(self):\n",
    "        thesum=0\n",
    "        for x in self.experiences:\n",
    "            thesum+=1/x[1]\n",
    "        return thesum/len(self.experiences)                    \n",
    "        \n",
    "    def choose_by_inv_weight(self):\n",
    "        weights=[ x[1] for x in self.experiences]\n",
    "        return random.choices(self.experiences, weights=weights)[0]\n",
    "    \n",
    "    def choose_by_weight(self):\n",
    "        weights=[ 1/x[1] for x in self.experiences]\n",
    "        return random.choices(self.experiences, weights=weights)[0]\n",
    "    \n",
    "    def forget(self):        \n",
    "        while len(self.experiences)>self.max_len:\n",
    "            self.experiences.remove(self.choose_by_weight())\n",
    "                \n",
    "    def add_experience(self,experience,weight):\n",
    "        #your chance of forgetting is propotional to the experience weight\n",
    "        self.experiences.append([experience,weight])\n",
    "        self.forget()                                        \n",
    "        \n",
    "\n"
   ]
  },
  {
   "cell_type": "code",
   "execution_count": 3,
   "metadata": {},
   "outputs": [],
   "source": [
    "import torch\n",
    "import torch.nn as nn\n",
    "import torch.nn.functional as F\n",
    "import torch.optim as optim\n",
    "\n",
    "        \n",
    "class TheThing:\n",
    "    def __init__(self):        \n",
    "        self.experience_memory=WeightedLeakyMemory(64)\n",
    "        self.min_loss=0.0001 #this maps to maximally forgettable\n",
    "        self.max_loss=.1 #this maps to minimally forgettable\n",
    "        \n",
    "        self.decision_mode=\"random\"\n",
    "        #self.decision_mode=\"learning\"\n",
    "        self.decision_bounds=[ [-1,1],[0,1] ]  #array of [min,max]\n",
    "        self.learn_jitter=[0.2,0.2]\n",
    "        \n",
    "        hidden_size=4\n",
    "        #start x, move power, move dur -> new x\n",
    "        self.motion_predictor=nn.Sequential(nn.Linear(3,hidden_size),\n",
    "                              nn.Tanh(),\n",
    "                              nn.Linear(hidden_size,1))\n",
    "        #start x, end x -> move power, move dur\n",
    "        self.command_predictor=nn.Sequential(nn.Linear(2,hidden_size),\n",
    "                                             nn.Tanh(),\n",
    "                                             nn.Linear(hidden_size,2))   \n",
    "                                             \n",
    "        \n",
    "        #how often to train?  \n",
    "        #I suppose when the average experience memory weight gets below a certain value?\n",
    "        self.memory_count_min_train=8\n",
    "        self.last_train_new_exp=0\n",
    "        self.memory_invweight_train_trigger=0.01 #     \n",
    "        \n",
    "    def experience_to_motionpredictor_tensors(self,memoryexp):\n",
    "        xs=[]\n",
    "        ys=[]\n",
    "        for x in memoryexp:\n",
    "            xs.append( torch.tensor([ *(x[0][0]),*(x[0][1]) ]).float() )\n",
    "            ys.append( torch.tensor(x[0][2]).float())\n",
    "        return torch.stack(xs),torch.stack(ys)\n",
    "\n",
    "    def loss_to_weight(self,loss):\n",
    "        return 1/np.clip(loss,self.min_loss,self.max_loss)\n",
    "        \n",
    "    def observe(self,last_input_vector,last_decision,this_input_vector):\n",
    "        #predict target from input, get error\n",
    "        with torch.set_grad_enabled(False):\n",
    "            loss_function = torch.nn.MSELoss()\n",
    "            input_tensor=torch.tensor( [*last_input_vector,*last_decision ]).float()\n",
    "            prediction=self.motion_predictor(torch.unsqueeze(input_tensor,0))[0]\n",
    "            loss=(loss_function(prediction,torch.tensor(this_input_vector).float())).item()        \n",
    "        \n",
    "        #record in experience_memory\n",
    "        self.experience_memory.add_experience([last_input_vector,last_decision,this_input_vector],self.loss_to_weight(loss))\n",
    "        #perhaps train\n",
    "        #if self.last_train_new_exp>self.memory_count_min_train and self.experience_memory.get_average_inv_weight()>self.memory_invweight_train_trigger:\n",
    "        if self.last_train_new_exp>self.memory_count_min_train:\n",
    "            self.train()\n",
    "            if self.decision_mode==\"random\":\n",
    "                self.decision_mode=\"learning\"\n",
    "            else:\n",
    "                self.decision_mode=\"random\"\n",
    "        else:\n",
    "            self.last_train_new_exp+=1\n",
    "            #print(\"not training, avg inv weight: {}\".format(self.experience_memory.get_average_inv_weight()))\n",
    "            #print(\"should train: {}\".format(self.experience_memory.get_average_weight()))        \n",
    "        \n",
    "    def decide(self,input_vector):\n",
    "        #returns vector representing chosen action                \n",
    "        if self.decision_mode==\"random\":\n",
    "            my_decision=[]\n",
    "            for d in self.decision_bounds:\n",
    "                my_decision.append(random.uniform(d[0],d[1]))\n",
    "            return my_decision\n",
    "        elif self.decision_mode==\"learning\":            \n",
    "            a_decision=self.experience_memory.choose_by_inv_weight()[0][1]            \n",
    "            for i in range(len(a_decision)):\n",
    "                a_decision[i]+=random.uniform(-self.learn_jitter[i],self.learn_jitter[i])\n",
    "                a_decision[i]=np.clip(a_decision[i],self.decision_bounds[i][0],self.decision_bounds[i][1])\n",
    "            return a_decision\n",
    "            \n",
    "        else:\n",
    "            print(\"error, undefined decision mode\")\n",
    "    \n",
    "    def train(self):\n",
    "        print(\"before: {}\".format(self.experience_memory.get_average_inv_weight()))\n",
    "        inputs,targets=self.experience_to_motionpredictor_tensors(self.experience_memory.experiences)        \n",
    "        optimizer = optim.Adam(self.motion_predictor.parameters(), lr=0.01)        \n",
    "        overall_loss=0\n",
    "        max_epochs=100\n",
    "        n_epochs_total=0\n",
    "        #while self.experience_memory.get_average_inv_weight()>memory_invweight_train_trigger and n_epochs_total<max_epochs:\n",
    "        while n_epochs_total<max_epochs:\n",
    "            n_epochs=10\n",
    "            n_epochs_total+=n_epochs\n",
    "            for epoch in range(n_epochs):                \n",
    "                    #                    input_batch,target_batch=input_batch.to(device), target_batch.to(device)                                          \n",
    "                    loss_function = torch.nn.MSELoss()\n",
    "                    out=self.motion_predictor( inputs )\n",
    "                    loss=loss_function(out,targets )\n",
    "                    optimizer.zero_grad()\n",
    "                    loss.backward()\n",
    "                    optimizer.step()\n",
    "            #now recalculate everything in memory\n",
    "            with torch.set_grad_enabled(False):\n",
    "                out=self.motion_predictor( inputs )\n",
    "                for i in range(len(self.experience_memory.experiences)):\n",
    "                    self.experience_memory.experiences[i][1]=self.loss_to_weight(loss_function(out[i],targets[i]).item())\n",
    "        print(\"after: {}\".format(self.experience_memory.get_average_inv_weight()))\n",
    "        self.last_train_new_exp=0\n",
    "\n",
    "\n",
    "\n",
    "\n",
    "\n",
    "\n"
   ]
  },
  {
   "cell_type": "code",
   "execution_count": 4,
   "metadata": {},
   "outputs": [
    {
     "name": "stderr",
     "output_type": "stream",
     "text": [
      "  4%|███▏                                                                            | 20/500 [00:00<00:03, 137.35it/s]"
     ]
    },
    {
     "name": "stdout",
     "output_type": "stream",
     "text": [
      "before: 0.0632203726034984\n",
      "after: 0.008171779651456745\n",
      "before: 0.0496700678711204\n",
      "after: 0.00979971334261587\n",
      "before: 0.018457682099455655\n"
     ]
    },
    {
     "name": "stderr",
     "output_type": "stream",
     "text": [
      "  8%|██████▍                                                                         | 40/500 [00:00<00:03, 141.11it/s]"
     ]
    },
    {
     "name": "stdout",
     "output_type": "stream",
     "text": [
      "after: 0.0022181147288426297\n",
      "before: 0.003186861439414497\n",
      "after: 0.0037232396028027866\n",
      "before: 0.004006968369465321\n",
      "after: 0.0035547699693031605\n",
      "before: 0.012374632740694407\n"
     ]
    },
    {
     "name": "stderr",
     "output_type": "stream",
     "text": [
      " 16%|████████████▊                                                                   | 80/500 [00:00<00:03, 133.57it/s]"
     ]
    },
    {
     "name": "stdout",
     "output_type": "stream",
     "text": [
      "after: 0.004428939939858778\n",
      "before: 0.006246368356582023\n",
      "after: 0.003217225087475889\n",
      "before: 0.0065118293838644595\n",
      "after: 0.0062106027831639946\n",
      "before: 0.008439750587410162\n"
     ]
    },
    {
     "name": "stderr",
     "output_type": "stream",
     "text": [
      " 20%|███████████████▊                                                               | 100/500 [00:00<00:03, 130.98it/s]"
     ]
    },
    {
     "name": "stdout",
     "output_type": "stream",
     "text": [
      "after: 0.0053893767268091315\n",
      "before: 0.005644522825234162\n",
      "after: 0.0042209122409625705\n",
      "before: 0.005228927956305051\n",
      "after: 0.003585052159766928\n",
      "before: 0.002502691496161423\n"
     ]
    },
    {
     "name": "stderr",
     "output_type": "stream",
     "text": [
      " 28%|██████████████████████                                                         | 140/500 [00:01<00:02, 129.72it/s]"
     ]
    },
    {
     "name": "stdout",
     "output_type": "stream",
     "text": [
      "after: 0.0033056607456055627\n",
      "before: 0.0037066004217886075\n",
      "after: 0.0027628170137713823\n",
      "before: 0.0018228248568242637\n",
      "after: 0.0019525268153838629\n",
      "before: 0.001640563760681653\n"
     ]
    },
    {
     "name": "stderr",
     "output_type": "stream",
     "text": [
      " 32%|█████████████████████████▎                                                     | 160/500 [00:01<00:02, 128.62it/s]"
     ]
    },
    {
     "name": "stdout",
     "output_type": "stream",
     "text": [
      "after: 0.0014747331081442104\n",
      "before: 0.001003719622406425\n",
      "after: 0.0015629650787568612\n",
      "before: 0.001392367373973139\n",
      "after: 0.0012806361882221613\n",
      "before: 0.0011613818585263294\n"
     ]
    },
    {
     "name": "stderr",
     "output_type": "stream",
     "text": [
      " 40%|███████████████████████████████▌                                               | 200/500 [00:01<00:02, 127.83it/s]"
     ]
    },
    {
     "name": "stdout",
     "output_type": "stream",
     "text": [
      "after: 0.001506889439402403\n",
      "before: 0.0016593652066110738\n",
      "after: 0.0014334863835250876\n",
      "before: 0.001130863015027353\n",
      "after: 0.0014097376245179479\n",
      "before: 0.0014910463817348503\n"
     ]
    },
    {
     "name": "stderr",
     "output_type": "stream",
     "text": [
      " 44%|██████████████████████████████████▊                                            | 220/500 [00:01<00:02, 127.30it/s]"
     ]
    },
    {
     "name": "stdout",
     "output_type": "stream",
     "text": [
      "after: 0.0013596650912306362\n",
      "before: 0.001977718942897991\n",
      "after: 0.002292855647104989\n",
      "before: 0.004444186925687791\n",
      "after: 0.0034444156247132925\n",
      "before: 0.002156004344308167\n"
     ]
    },
    {
     "name": "stderr",
     "output_type": "stream",
     "text": [
      " 52%|█████████████████████████████████████████                                      | 260/500 [00:02<00:01, 127.33it/s]"
     ]
    },
    {
     "name": "stdout",
     "output_type": "stream",
     "text": [
      "after: 0.002182720769056323\n",
      "before: 0.001940781162843996\n",
      "after: 0.0017910313737464097\n",
      "before: 0.001809775255937166\n",
      "after: 0.0017009691017367005\n",
      "before: 0.001490921604439791\n"
     ]
    },
    {
     "name": "stderr",
     "output_type": "stream",
     "text": [
      " 56%|████████████████████████████████████████████▏                                  | 280/500 [00:02<00:01, 127.05it/s]"
     ]
    },
    {
     "name": "stdout",
     "output_type": "stream",
     "text": [
      "after: 0.0013819175175594867\n",
      "before: 0.001351428988240514\n",
      "after: 0.0013069002969214127\n",
      "before: 0.002212587532366342\n",
      "after: 0.0019348556698019822\n",
      "before: 0.0017087105798196719\n"
     ]
    },
    {
     "name": "stderr",
     "output_type": "stream",
     "text": [
      " 64%|██████████████████████████████████████████████████▌                            | 320/500 [00:02<00:01, 126.36it/s]"
     ]
    },
    {
     "name": "stdout",
     "output_type": "stream",
     "text": [
      "after: 0.0021486124276274493\n",
      "before: 0.002118959925392483\n",
      "after: 0.0020459338019725697\n",
      "before: 0.001523333137899681\n",
      "after: 0.0019591531763722744\n",
      "before: 0.0021425953793223016\n"
     ]
    },
    {
     "name": "stderr",
     "output_type": "stream",
     "text": [
      " 68%|█████████████████████████████████████████████████████▋                         | 340/500 [00:02<00:01, 126.04it/s]"
     ]
    },
    {
     "name": "stdout",
     "output_type": "stream",
     "text": [
      "after: 0.002076760359623586\n",
      "before: 0.002376966078688565\n",
      "after: 0.002353680068286667\n",
      "before: 0.0016000061603464932\n",
      "after: 0.001435824381492967\n",
      "before: 0.0012692473689194233\n"
     ]
    },
    {
     "name": "stderr",
     "output_type": "stream",
     "text": [
      " 76%|████████████████████████████████████████████████████████████                   | 380/500 [00:02<00:00, 126.01it/s]"
     ]
    },
    {
     "name": "stdout",
     "output_type": "stream",
     "text": [
      "after: 0.0014047161623140713\n",
      "before: 0.0013409155903395008\n",
      "after: 0.001267823212801159\n",
      "before: 0.0009538561911944276\n",
      "after: 0.0010826037843353338\n",
      "before: 0.001089537230792303\n"
     ]
    },
    {
     "name": "stderr",
     "output_type": "stream",
     "text": [
      " 80%|███████████████████████████████████████████████████████████████▏               | 400/500 [00:03<00:00, 125.11it/s]"
     ]
    },
    {
     "name": "stdout",
     "output_type": "stream",
     "text": [
      "after: 0.0010045657026943448\n",
      "before: 0.0007271932187459245\n",
      "after: 0.0008076478429993586\n",
      "before: 0.0007648932941669046\n",
      "after: 0.0007217318131453796\n",
      "before: 0.0006166983698170954\n"
     ]
    },
    {
     "name": "stderr",
     "output_type": "stream",
     "text": [
      " 88%|█████████████████████████████████████████████████████████████████████▌         | 440/500 [00:03<00:00, 125.28it/s]"
     ]
    },
    {
     "name": "stdout",
     "output_type": "stream",
     "text": [
      "after: 0.0012648011509289066\n",
      "before: 0.0008940662265233188\n",
      "after: 0.0008351590900256272\n",
      "before: 0.0006601119266522802\n",
      "after: 0.0007528739577666786\n",
      "before: 0.0006931389706560368\n"
     ]
    },
    {
     "name": "stderr",
     "output_type": "stream",
     "text": [
      " 92%|████████████████████████████████████████████████████████████████████████▋      | 460/500 [00:03<00:00, 125.61it/s]"
     ]
    },
    {
     "name": "stdout",
     "output_type": "stream",
     "text": [
      "after: 0.0006716764496495673\n",
      "before: 0.0005652267498860966\n",
      "after: 0.0007886739529001719\n",
      "before: 0.0005990094267928726\n",
      "after: 0.0005528027803604345\n",
      "before: 0.0007274235452237916\n"
     ]
    },
    {
     "name": "stderr",
     "output_type": "stream",
     "text": [
      "100%|███████████████████████████████████████████████████████████████████████████████| 500/500 [00:03<00:00, 127.66it/s]"
     ]
    },
    {
     "name": "stdout",
     "output_type": "stream",
     "text": [
      "after: 0.0008002348522084504\n",
      "before: 0.0005230839940773876\n",
      "after: 0.00047630242246214026\n",
      "before: 0.00041452491147701934\n",
      "after: 0.0009821477961129861\n"
     ]
    },
    {
     "name": "stderr",
     "output_type": "stream",
     "text": [
      "\n"
     ]
    }
   ],
   "source": [
    "from tqdm import tqdm\n",
    "sim=Simulation()\n",
    "actor=TheThing()\n",
    "\n",
    "obs_vectors=[]\n",
    "dec_vectors=[]\n",
    "nsteps=500\n",
    "input_vector=sim.step([0,0])\n",
    "obs_vectors.append(input_vector)\n",
    "for i in tqdm(range(nsteps)):\n",
    "    decision=actor.decide(input_vector)\n",
    "    last_input_vector=input_vector\n",
    "    input_vector=sim.step(decision)\n",
    "    actor.observe(last_input_vector,decision,input_vector)    \n",
    "    dec_vectors.append(decision)\n",
    "    obs_vectors.append(input_vector)\n",
    "    \n",
    "    \n",
    "obs_vectors=np.array(obs_vectors)\n",
    "dec_vectors=np.array(dec_vectors)\n",
    "    \n",
    "#print(actor.experience_memory.experiences)"
   ]
  },
  {
   "cell_type": "code",
   "execution_count": 5,
   "metadata": {},
   "outputs": [
    {
     "data": {
      "image/png": "[encoded data removed]",
      "text/plain": [
       "<Figure size 432x288 with 1 Axes>"
      ]
     },
     "metadata": {
      "needs_background": "light"
     },
     "output_type": "display_data"
    },
    {
     "data": {
      "image/png": "[encoded data removed]",
      "text/plain": [
       "<Figure size 432x288 with 1 Axes>"
      ]
     },
     "metadata": {
      "needs_background": "light"
     },
     "output_type": "display_data"
    }
   ],
   "source": [
    "from matplotlib import pyplot as plt\n",
    "inputs,targets=actor.experience_to_motionpredictor_tensors(actor.experience_memory.experiences)        \n",
    "out=actor.motion_predictor( inputs ).detach()\n",
    "\n",
    "fig, ax = plt.subplots()\n",
    "plt.title(\"Err\")\n",
    "ax.plot( targets[:,0]-out[:,0],'*')\n",
    "plt.show()\n",
    "\n",
    "fig, ax = plt.subplots()\n",
    "plt.title(\"Decision Time*Mag vs delta p\")\n",
    "ax.plot( inputs[:,1]*inputs[:,2],targets[:,0]-inputs[:,0],'*')\n",
    "ax.plot( inputs[:,1]*inputs[:,2],out[:,0]-inputs[:,0],'*')\n",
    "plt.show()\n",
    "    \n"
   ]
  },
  {
   "cell_type": "code",
   "execution_count": 6,
   "metadata": {},
   "outputs": [],
   "source": [
    "\n",
    "def plot_records(obs_vectors,dec_vectors):\n",
    "    fig, ax = plt.subplots()\n",
    "    plt.title(\"Position\")\n",
    "    ax.plot(obs_vectors[:,0],'*')\n",
    "    plt.show()\n",
    "    \n",
    "    fig, ax = plt.subplots()\n",
    "    plt.title(\"Decision Mag\")\n",
    "    ax.plot(dec_vectors[:,0],'*')\n",
    "    plt.show()\n",
    "    \n",
    "    fig, ax = plt.subplots()\n",
    "    plt.title(\"Decision Time\")\n",
    "    ax.plot(dec_vectors[:,1],'*')\n",
    "    plt.show()\n",
    "    \n",
    "    delta_obs=obs_vectors[1:,0]-obs_vectors[:-1,0]\n",
    "    combo_dec=0.4*np.clip(np.sin(dec_vectors[:,0]*np.pi/2),-1,1)*np.sqrt(dec_vectors[:,1])\n",
    "    fig, ax = plt.subplots()\n",
    "    plt.title(\"Decision Time*Mag vs delta p\")\n",
    "    #ax.plot(dec_vectors[:-1,1]*dec_vectors[:-1,0],obs_vectors[1:,0]-obs_vectors[:-1,0],'*')\n",
    "    ax.plot(combo_dec,delta_obs,'*')\n",
    "    ax.plot(dec_vectors[:,0]*dec_vectors[:,1],delta_obs,'*')\n",
    "    plt.show()\n",
    "\n",
    "def plot_experiences(actor):\n",
    "    dataset=MotionPredictorDataset(actor.experience_memory)\n",
    "    xs=[]\n",
    "    ys=[]\n",
    "    for i in range(len(dataset)):\n",
    "        x,y=dataset[i]\n",
    "        #print(x)\n",
    "        #print(y)\n",
    "        xs.append(x)\n",
    "        ys.append(y)\n",
    "    xs=torch.stack(xs)\n",
    "    ys=torch.stack(ys)\n",
    "    \n",
    "    fig, ax = plt.subplots()\n",
    "    plt.title(\"Decision Time*Mag vs delta p\")\n",
    "    ax.plot( xs[:,1]*xs[:,2],ys[:,0]-xs[:,0],'*')\n",
    "    plt.show()\n",
    "    \n",
    "\n"
   ]
  },
  {
   "cell_type": "code",
   "execution_count": null,
   "metadata": {},
   "outputs": [],
   "source": []
  }
 ],
 "metadata": {
  "kernelspec": {
   "display_name": "Python 3",
   "language": "python",
   "name": "python3"
  },
  "language_info": {
   "codemirror_mode": {
    "name": "ipython",
    "version": 3
   },
   "file_extension": ".py",
   "mimetype": "text/x-python",
   "name": "python",
   "nbconvert_exporter": "python",
   "pygments_lexer": "ipython3",
   "version": "3.8.3"
  }
 },
 "nbformat": 4,
 "nbformat_minor": 4
}
