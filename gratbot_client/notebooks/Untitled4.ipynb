{
 "cells": [
  {
   "cell_type": "code",
   "execution_count": 1,
   "metadata": {},
   "outputs": [],
   "source": [
    "\n",
    "import json\n",
    "import yaml\n",
    "\n",
    "    \n",
    "def dict_array_upend(mydict,key,elem):\n",
    "    if key not in mydict:\n",
    "        mydict[key]=[]\n",
    "    mydict[key.append(elem)]\n",
    "\n",
    "def load_sensor_log_file(fname):\n",
    "    response=[]\n",
    "    first_timestamp=0\n",
    "    f=open(fname,'r')\n",
    "    for line in f.readlines():        \n",
    "        dat=json.loads(line)\n",
    "        timestamp=dat[\"timestamp\"]-first_timestamp\n",
    "        response.append(dat)\n",
    "        if first_timestamp==0:                        \n",
    "            first_timestamp=timestamp\n",
    "    return response,first_timestamp\n",
    "        \n",
    "\n",
    "sensor_log,first_timestamp=load_sensor_log_file(\"../to_study/caterpillar_test.txt\")"
   ]
  },
  {
   "cell_type": "code",
   "execution_count": 9,
   "metadata": {},
   "outputs": [
    {
     "data": {
      "image/png": "[encoded data removed]",
      "text/plain": [
       "<Figure size 432x288 with 1 Axes>"
      ]
     },
     "metadata": {
      "needs_background": "light"
     },
     "output_type": "display_data"
    }
   ],
   "source": [
    "from matplotlib import pyplot as plt\n",
    "\n",
    "vs=[]\n",
    "ts=[]\n",
    "start_timestamp=sensor_log[0][\"timestamp\"]\n",
    "for message in sensor_log:\n",
    "    t=message[\"timestamp\"]-start_timestamp\n",
    "    if \"video_offset\" in message:\n",
    "        vs.append(message[\"video_offset\"][2]/1000)\n",
    "        ts.append(t)\n",
    "plt.figure()\n",
    "plt.ylim(-2,2)\n",
    "plt.xlim(24,29)\n",
    "plt.plot(ts,vs,'*')\n",
    "plt.show()"
   ]
  },
  {
   "cell_type": "code",
   "execution_count": null,
   "metadata": {},
   "outputs": [],
   "source": []
  }
 ],
 "metadata": {
  "kernelspec": {
   "display_name": "Python 3",
   "language": "python",
   "name": "python3"
  },
  "language_info": {
   "codemirror_mode": {
    "name": "ipython",
    "version": 3
   },
   "file_extension": ".py",
   "mimetype": "text/x-python",
   "name": "python",
   "nbconvert_exporter": "python",
   "pygments_lexer": "ipython3",
   "version": "3.8.3"
  }
 },
 "nbformat": 4,
 "nbformat_minor": 4
}
